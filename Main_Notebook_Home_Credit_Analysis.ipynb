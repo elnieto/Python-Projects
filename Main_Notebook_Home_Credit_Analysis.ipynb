{
 "cells": [
  {
   "cell_type": "markdown",
   "metadata": {},
   "source": [
    "# Preprocessing "
   ]
  },
  {
   "cell_type": "markdown",
   "metadata": {},
   "source": [
    "<b>Import Libraries and Data Files</b> "
   ]
  },
  {
   "cell_type": "code",
   "execution_count": 5,
   "metadata": {},
   "outputs": [],
   "source": [
    "import numpy as np\n",
    "import pandas as pd\n",
    "import matplotlib.pyplot as plt\n",
    "import warnings\n",
    "warnings.simplefilter('ignore')\n",
    "pd.options.display.max_rows = 999\n",
    "pd.options.display.max_columns = 999\n",
    "from os import chdir, getcwd\n",
    "wd=getcwd()\n",
    "chdir('C:\\\\Users\\\\eniet\\\\Documents\\\\School\\\\Current\\\\DSC478\\\\GROUPPROJECT')"
   ]
  },
  {
   "cell_type": "markdown",
   "metadata": {},
   "source": [
    "<b>Joining/Stitching the 7 data files</b> <br />\n",
    "The data files can be downloaded from: <br />\n",
    "https://www.kaggle.com/c/home-credit-default-risk/data\n",
    "\n",
    "The data is then Joined and Aggregated using the python file: Load_files_join_data_v2.py<br />\n",
    "Please note: <br />This python code for joining and aggregating the data run for more than 3 hours. <br />Hence we have exported the aggregated train and test files and the same will be used for further analysis. <br />The aggregated files are attached in the submission."
   ]
  },
  {
   "cell_type": "code",
   "execution_count": 25,
   "metadata": {},
   "outputs": [],
   "source": [
    "application_train_comb = pd.read_csv('C:\\\\Users\\\\eniet\\\\Documents\\\\School\\\\Current\\\\DSC478\\\\GROUPPROJECT\\\\application_train_agg.csv', sep=',',header =0);"
   ]
  },
  {
   "cell_type": "code",
   "execution_count": 26,
   "metadata": {
    "scrolled": true
   },
   "outputs": [
    {
     "name": "stdout",
     "output_type": "stream",
     "text": [
      "Training Data Shape: (307511, 376)\n"
     ]
    }
   ],
   "source": [
    "print('Training Data Shape:', application_train_comb.shape)\n"
   ]
  },
  {
   "cell_type": "markdown",
   "metadata": {},
   "source": [
    "<b>Check for Missing Values</b> "
   ]
  },
  {
   "cell_type": "markdown",
   "metadata": {},
   "source": [
    "Use fucntion borrowed from Kaggle to view percentage of missing values by column in a table. \n",
    "<br> https://www.kaggle.com/willkoehrsen/start-here-a-gentle-introduction"
   ]
  },
  {
   "cell_type": "code",
   "execution_count": 27,
   "metadata": {},
   "outputs": [],
   "source": [
    "def missing_values_table(df):\n",
    "        # Total missing values\n",
    "        mis_val = df.isnull().sum()\n",
    "        \n",
    "        # Percentage of missing values\n",
    "        mis_val_percent = 100 * df.isnull().sum() / len(df)\n",
    "        \n",
    "        # Make a table with the results\n",
    "        mis_val_table = pd.concat([mis_val, mis_val_percent], axis=1)\n",
    "        \n",
    "        # Rename the columns\n",
    "        mis_val_table_ren_columns = mis_val_table.rename(\n",
    "        columns = {0 : 'Missing Values', 1 : '% of Total Values'})\n",
    "        \n",
    "        # Sort the table by percentage of missing descending\n",
    "        mis_val_table_ren_columns = mis_val_table_ren_columns[\n",
    "            mis_val_table_ren_columns.iloc[:,1] != 0].sort_values(\n",
    "        '% of Total Values', ascending=False).round(1)\n",
    "        \n",
    "        # Print some summary information\n",
    "        print (\"Your selected dataframe has \" + str(df.shape[1]) + \" columns.\\n\"      \n",
    "            \"There are \" + str(mis_val_table_ren_columns.shape[0]) +\n",
    "              \" columns that have missing values.\")\n",
    "        \n",
    "        # Return the dataframe with missing information\n",
    "        return mis_val_table_ren_columns"
   ]
  },
  {
   "cell_type": "code",
   "execution_count": 28,
   "metadata": {
    "scrolled": true
   },
   "outputs": [
    {
     "name": "stdout",
     "output_type": "stream",
     "text": [
      "Your selected dataframe has 376 columns.\n",
      "There are 146 columns that have missing values.\n"
     ]
    },
    {
     "data": {
      "text/html": [
       "<div>\n",
       "<style scoped>\n",
       "    .dataframe tbody tr th:only-of-type {\n",
       "        vertical-align: middle;\n",
       "    }\n",
       "\n",
       "    .dataframe tbody tr th {\n",
       "        vertical-align: top;\n",
       "    }\n",
       "\n",
       "    .dataframe thead th {\n",
       "        text-align: right;\n",
       "    }\n",
       "</style>\n",
       "<table border=\"1\" class=\"dataframe\">\n",
       "  <thead>\n",
       "    <tr style=\"text-align: right;\">\n",
       "      <th></th>\n",
       "      <th>Missing Values</th>\n",
       "      <th>% of Total Values</th>\n",
       "    </tr>\n",
       "  </thead>\n",
       "  <tbody>\n",
       "    <tr>\n",
       "      <th>Prev_FLAG_LAST_APPL_PER_CONTRACT</th>\n",
       "      <td>307511</td>\n",
       "      <td>100.0</td>\n",
       "    </tr>\n",
       "    <tr>\n",
       "      <th>Prev_RATE_INTEREST_PRIVILEGED</th>\n",
       "      <td>301943</td>\n",
       "      <td>98.2</td>\n",
       "    </tr>\n",
       "    <tr>\n",
       "      <th>Prev_RATE_INTEREST_PRIMARY</th>\n",
       "      <td>301943</td>\n",
       "      <td>98.2</td>\n",
       "    </tr>\n",
       "    <tr>\n",
       "      <th>Prev_CCB_AMT_PAYMENT_CURRENT</th>\n",
       "      <td>227533</td>\n",
       "      <td>74.0</td>\n",
       "    </tr>\n",
       "    <tr>\n",
       "      <th>Prev_CCB_CNT_DRAWINGS_OTHER_CURRENT</th>\n",
       "      <td>227489</td>\n",
       "      <td>74.0</td>\n",
       "    </tr>\n",
       "    <tr>\n",
       "      <th>Prev_CCB_CNT_DRAWINGS_ATM_CURRENT</th>\n",
       "      <td>227489</td>\n",
       "      <td>74.0</td>\n",
       "    </tr>\n",
       "    <tr>\n",
       "      <th>Prev_CCB_AMT_DRAWINGS_ATM_CURRENT</th>\n",
       "      <td>227489</td>\n",
       "      <td>74.0</td>\n",
       "    </tr>\n",
       "    <tr>\n",
       "      <th>Prev_CCB_CNT_DRAWINGS_POS_CURRENT</th>\n",
       "      <td>227489</td>\n",
       "      <td>74.0</td>\n",
       "    </tr>\n",
       "    <tr>\n",
       "      <th>Prev_CCB_AMT_DRAWINGS_OTHER_CURRENT</th>\n",
       "      <td>227489</td>\n",
       "      <td>74.0</td>\n",
       "    </tr>\n",
       "    <tr>\n",
       "      <th>Prev_CCB_AMT_DRAWINGS_POS_CURRENT</th>\n",
       "      <td>227489</td>\n",
       "      <td>74.0</td>\n",
       "    </tr>\n",
       "    <tr>\n",
       "      <th>COMMONAREA_MODE</th>\n",
       "      <td>214865</td>\n",
       "      <td>69.9</td>\n",
       "    </tr>\n",
       "    <tr>\n",
       "      <th>COMMONAREA_AVG</th>\n",
       "      <td>214865</td>\n",
       "      <td>69.9</td>\n",
       "    </tr>\n",
       "    <tr>\n",
       "      <th>COMMONAREA_MEDI</th>\n",
       "      <td>214865</td>\n",
       "      <td>69.9</td>\n",
       "    </tr>\n",
       "    <tr>\n",
       "      <th>NONLIVINGAPARTMENTS_MODE</th>\n",
       "      <td>213514</td>\n",
       "      <td>69.4</td>\n",
       "    </tr>\n",
       "    <tr>\n",
       "      <th>NONLIVINGAPARTMENTS_AVG</th>\n",
       "      <td>213514</td>\n",
       "      <td>69.4</td>\n",
       "    </tr>\n",
       "    <tr>\n",
       "      <th>NONLIVINGAPARTMENTS_MEDI</th>\n",
       "      <td>213514</td>\n",
       "      <td>69.4</td>\n",
       "    </tr>\n",
       "    <tr>\n",
       "      <th>FONDKAPREMONT_MODE</th>\n",
       "      <td>210295</td>\n",
       "      <td>68.4</td>\n",
       "    </tr>\n",
       "    <tr>\n",
       "      <th>LIVINGAPARTMENTS_AVG</th>\n",
       "      <td>210199</td>\n",
       "      <td>68.4</td>\n",
       "    </tr>\n",
       "    <tr>\n",
       "      <th>LIVINGAPARTMENTS_MEDI</th>\n",
       "      <td>210199</td>\n",
       "      <td>68.4</td>\n",
       "    </tr>\n",
       "    <tr>\n",
       "      <th>LIVINGAPARTMENTS_MODE</th>\n",
       "      <td>210199</td>\n",
       "      <td>68.4</td>\n",
       "    </tr>\n",
       "  </tbody>\n",
       "</table>\n",
       "</div>"
      ],
      "text/plain": [
       "                                     Missing Values  % of Total Values\n",
       "Prev_FLAG_LAST_APPL_PER_CONTRACT             307511              100.0\n",
       "Prev_RATE_INTEREST_PRIVILEGED                301943               98.2\n",
       "Prev_RATE_INTEREST_PRIMARY                   301943               98.2\n",
       "Prev_CCB_AMT_PAYMENT_CURRENT                 227533               74.0\n",
       "Prev_CCB_CNT_DRAWINGS_OTHER_CURRENT          227489               74.0\n",
       "Prev_CCB_CNT_DRAWINGS_ATM_CURRENT            227489               74.0\n",
       "Prev_CCB_AMT_DRAWINGS_ATM_CURRENT            227489               74.0\n",
       "Prev_CCB_CNT_DRAWINGS_POS_CURRENT            227489               74.0\n",
       "Prev_CCB_AMT_DRAWINGS_OTHER_CURRENT          227489               74.0\n",
       "Prev_CCB_AMT_DRAWINGS_POS_CURRENT            227489               74.0\n",
       "COMMONAREA_MODE                              214865               69.9\n",
       "COMMONAREA_AVG                               214865               69.9\n",
       "COMMONAREA_MEDI                              214865               69.9\n",
       "NONLIVINGAPARTMENTS_MODE                     213514               69.4\n",
       "NONLIVINGAPARTMENTS_AVG                      213514               69.4\n",
       "NONLIVINGAPARTMENTS_MEDI                     213514               69.4\n",
       "FONDKAPREMONT_MODE                           210295               68.4\n",
       "LIVINGAPARTMENTS_AVG                         210199               68.4\n",
       "LIVINGAPARTMENTS_MEDI                        210199               68.4\n",
       "LIVINGAPARTMENTS_MODE                        210199               68.4"
      ]
     },
     "execution_count": 28,
     "metadata": {},
     "output_type": "execute_result"
    }
   ],
   "source": [
    "missing_values = missing_values_table(application_train_comb)\n",
    "missing_values.head(20)\n"
   ]
  },
  {
   "cell_type": "markdown",
   "metadata": {},
   "source": [
    "Remove columns missing more than 60% of the data and print removed column's name."
   ]
  },
  {
   "cell_type": "code",
   "execution_count": 29,
   "metadata": {},
   "outputs": [
    {
     "name": "stdout",
     "output_type": "stream",
     "text": [
      "Dropping column:  Prev_FLAG_LAST_APPL_PER_CONTRACT\n",
      "Dropping column:  Prev_RATE_INTEREST_PRIVILEGED\n",
      "Dropping column:  Prev_RATE_INTEREST_PRIMARY\n",
      "Dropping column:  Prev_CCB_AMT_PAYMENT_CURRENT\n",
      "Dropping column:  Prev_CCB_CNT_DRAWINGS_OTHER_CURRENT\n",
      "Dropping column:  Prev_CCB_CNT_DRAWINGS_ATM_CURRENT\n",
      "Dropping column:  Prev_CCB_AMT_DRAWINGS_ATM_CURRENT\n",
      "Dropping column:  Prev_CCB_CNT_DRAWINGS_POS_CURRENT\n",
      "Dropping column:  Prev_CCB_AMT_DRAWINGS_OTHER_CURRENT\n",
      "Dropping column:  Prev_CCB_AMT_DRAWINGS_POS_CURRENT\n",
      "Dropping column:  COMMONAREA_MODE\n",
      "Dropping column:  COMMONAREA_AVG\n",
      "Dropping column:  COMMONAREA_MEDI\n",
      "Dropping column:  NONLIVINGAPARTMENTS_MODE\n",
      "Dropping column:  NONLIVINGAPARTMENTS_AVG\n",
      "Dropping column:  NONLIVINGAPARTMENTS_MEDI\n",
      "Dropping column:  FONDKAPREMONT_MODE\n",
      "Dropping column:  LIVINGAPARTMENTS_AVG\n",
      "Dropping column:  LIVINGAPARTMENTS_MEDI\n",
      "Dropping column:  LIVINGAPARTMENTS_MODE\n",
      "Dropping column:  FLOORSMIN_MODE\n",
      "Dropping column:  FLOORSMIN_MEDI\n",
      "Dropping column:  FLOORSMIN_AVG\n",
      "Dropping column:  YEARS_BUILD_AVG\n",
      "Dropping column:  YEARS_BUILD_MODE\n",
      "Dropping column:  YEARS_BUILD_MEDI\n",
      "Dropping column:  OWN_CAR_AGE\n",
      "Dropping column:  Prev_CCB_MONTHS_BALANCE\n",
      "Dropping column:  Prev_CCB_AMT_CREDIT_LIMIT_ACTUAL\n",
      "Dropping column:  Prev_CCB_AMT_DRAWINGS_CURRENT\n",
      "Dropping column:  Prev_CCB_AMT_INST_MIN_REGULARITY\n",
      "Dropping column:  Prev_CCB_AMT_PAYMENT_TOTAL_CURRENT\n",
      "Dropping column:  Prev_CCB_CNT_DRAWINGS_CURRENT\n",
      "Dropping column:  Prev_CCB_AMT_RECEIVABLE_PRINCIPAL\n",
      "Dropping column:  Prev_CCB_AMT_RECIVABLE\n",
      "Dropping column:  Prev_CCB_SK_DPD_DEF\n",
      "Dropping column:  Prev_CCB_SK_DPD\n",
      "Dropping column:  Prev_CCB_CNT_INSTALMENT_MATURE_CUM\n",
      "Dropping column:  Prev_CCB_AMT_TOTAL_RECEIVABLE\n",
      "Dropping column:  Prev_CCB_NAME_CONTRACT_STATUS_Approved\n",
      "Dropping column:  Prev_CCB_AMT_BALANCE\n",
      "Dropping column:  Prev_CCB_NAME_CONTRACT_STATUS_Active\n",
      "Dropping column:  Prev_CCB_NAME_CONTRACT_STATUS_Demand\n",
      "Dropping column:  Prev_CCB_NAME_CONTRACT_STATUS_Completed\n",
      "Dropping column:  Prev_CCB_NAME_CONTRACT_STATUS_Refused\n",
      "Dropping column:  Prev_CCB_NAME_CONTRACT_STATUS_Sent proposal\n",
      "Dropping column:  Prev_CCB_NAME_CONTRACT_STATUS_Signed\n"
     ]
    }
   ],
   "source": [
    "app_train = application_train_comb\n",
    "\n",
    "for name in missing_values.index:\n",
    "    if missing_values.ix[name][1] > 60:\n",
    "        print('Dropping column: ', name)\n",
    "        app_train = app_train.drop(columns=[name])"
   ]
  },
  {
   "cell_type": "code",
   "execution_count": 30,
   "metadata": {
    "scrolled": true
   },
   "outputs": [
    {
     "name": "stdout",
     "output_type": "stream",
     "text": [
      "Training Data Shape: (307511, 329)\n"
     ]
    }
   ],
   "source": [
    "print('Training Data Shape:', app_train.shape)\n"
   ]
  },
  {
   "cell_type": "markdown",
   "metadata": {},
   "source": [
    "In total 47 columns were removed from the data set(376 - 329 = 47)."
   ]
  },
  {
   "cell_type": "code",
   "execution_count": 31,
   "metadata": {
    "scrolled": true
   },
   "outputs": [
    {
     "name": "stdout",
     "output_type": "stream",
     "text": [
      "Bureau_CREDIT_TYPE_Interbank credit [0.0]\n",
      "Bureau_CREDIT_TYPE_Loan for purchase of shares (margin lending) [0.0]\n",
      "Prev_NAME_TYPE_SUITE_nan [0]\n",
      "Prev_PRODUCT_COMBINATION_nan [0]\n"
     ]
    }
   ],
   "source": [
    "app_train.dtypes.value_counts()\n",
    "df_unique_cnt = pd.DataFrame(columns=['col_name','unique_cnt'])\n",
    "for col in app_train:\n",
    "        # If 2 or fewer unique categories\n",
    "        col_name = col\n",
    "        unique_cnt = len(list(app_train[col].unique()))\n",
    "        df_unique_cnt = df_unique_cnt.append({'col_name':col_name,'unique_cnt':unique_cnt},ignore_index=True)\n",
    "\n",
    "for name,cnt in df_unique_cnt['unique_cnt'].iteritems():\n",
    "    if cnt == 1:\n",
    "        coln = df_unique_cnt['col_name'][name]\n",
    "        print (coln,  app_train[coln].unique().tolist())"
   ]
  },
  {
   "cell_type": "markdown",
   "metadata": {},
   "source": [
    "Drop columns with zero unique values. "
   ]
  },
  {
   "cell_type": "code",
   "execution_count": 32,
   "metadata": {},
   "outputs": [],
   "source": [
    "app_train = app_train.drop(columns=\n",
    "                           ['Bureau_CREDIT_TYPE_Interbank credit',\n",
    "                            'Bureau_CREDIT_TYPE_Loan for purchase of shares (margin lending)',\n",
    "                            'Prev_NAME_TYPE_SUITE_nan',\n",
    "                            'Prev_PRODUCT_COMBINATION_nan'])"
   ]
  },
  {
   "cell_type": "markdown",
   "metadata": {},
   "source": [
    "<b>Get Dummy Variables</b>\n",
    "<br> Recode categorial variables with two classes with label encoding and recode categorical variables with more than two classes with one-hot encoder."
   ]
  },
  {
   "cell_type": "markdown",
   "metadata": {},
   "source": [
    "List all binary columns"
   ]
  },
  {
   "cell_type": "code",
   "execution_count": 34,
   "metadata": {
    "scrolled": false
   },
   "outputs": [],
   "source": [
    "for name,cnt in df_unique_cnt['unique_cnt'].iteritems():\n",
    "    if cnt == 2:\n",
    "        coln = df_unique_cnt['col_name'][name]\n",
    "        print (coln,  app_train[coln].unique().tolist())"
   ]
  },
  {
   "cell_type": "markdown",
   "metadata": {},
   "source": [
    "Label Encode"
   ]
  },
  {
   "cell_type": "code",
   "execution_count": 35,
   "metadata": {},
   "outputs": [
    {
     "name": "stdout",
     "output_type": "stream",
     "text": [
      "3 columns were label encoded.\n"
     ]
    }
   ],
   "source": [
    "from sklearn.preprocessing import LabelEncoder\n",
    "\n",
    "le = LabelEncoder()\n",
    "le_count = 0\n",
    "\n",
    "for col in app_train:\n",
    "    if app_train[col].dtype == 'object':\n",
    "        \n",
    "        # If 2 or fewer unique categories\n",
    "        if len(list(app_train[col].unique())) <= 2:\n",
    "            \n",
    "            # Train on the training data\n",
    "            le.fit(app_train[col])\n",
    "            \n",
    "            # Transform both training and testing data\n",
    "            app_train[col] = le.transform(app_train[col])\n",
    "            \n",
    "            # Keep track of how many columns were label encoded\n",
    "            le_count += 1\n",
    "print('%d columns were label encoded.' % le_count)"
   ]
  },
  {
   "cell_type": "markdown",
   "metadata": {},
   "source": [
    "One Hot Encoder"
   ]
  },
  {
   "cell_type": "code",
   "execution_count": 36,
   "metadata": {},
   "outputs": [],
   "source": [
    "app_train = pd.get_dummies(app_train)"
   ]
  },
  {
   "cell_type": "code",
   "execution_count": 37,
   "metadata": {
    "scrolled": false
   },
   "outputs": [
    {
     "name": "stdout",
     "output_type": "stream",
     "text": [
      "Training Features shape:  (307511, 440)\n"
     ]
    }
   ],
   "source": [
    "print('Training Features shape: ', app_train.shape)"
   ]
  },
  {
   "cell_type": "markdown",
   "metadata": {},
   "source": [
    "<b>Correct Negative Numbers</b>"
   ]
  },
  {
   "cell_type": "code",
   "execution_count": 38,
   "metadata": {},
   "outputs": [
    {
     "data": {
      "text/plain": [
       "Index(['DAYS_BIRTH', 'DAYS_EMPLOYED', 'DAYS_REGISTRATION', 'DAYS_ID_PUBLISH',\n",
       "       'DAYS_LAST_PHONE_CHANGE', 'Bureau_DAYS_CREDIT',\n",
       "       'Bureau_DAYS_CREDIT_ENDDATE', 'Bureau_DAYS_ENDDATE_FACT',\n",
       "       'Bureau_AMT_CREDIT_SUM_DEBT', 'Bureau_AMT_CREDIT_SUM_LIMIT',\n",
       "       'Bureau_DAYS_CREDIT_UPDATE', 'Bureau_Balance_MONTHS_BALANCE',\n",
       "       'Prev_AMT_DOWN_PAYMENT', 'Prev_RATE_DOWN_PAYMENT', 'Prev_DAYS_DECISION',\n",
       "       'Prev_SELLERPLACE_AREA', 'Prev_DAYS_FIRST_DRAWING',\n",
       "       'Prev_DAYS_FIRST_DUE', 'Prev_DAYS_LAST_DUE_1ST_VERSION',\n",
       "       'Prev_DAYS_LAST_DUE', 'Prev_DAYS_TERMINATION',\n",
       "       'Prev_POS_MONTHS_BALANCE', 'Prev_IP_DAYS_INSTALMENT',\n",
       "       'Prev_IP_DAYS_ENTRY_PAYMENT'],\n",
       "      dtype='object')"
      ]
     },
     "execution_count": 38,
     "metadata": {},
     "output_type": "execute_result"
    }
   ],
   "source": [
    "app_train.columns[(app_train < 0).any()]"
   ]
  },
  {
   "cell_type": "code",
   "execution_count": 40,
   "metadata": {
    "scrolled": true
   },
   "outputs": [
    {
     "data": {
      "text/plain": [
       "count    306848.000000\n",
       "mean      13396.851488\n",
       "std       37743.709954\n",
       "min       -2891.000000\n",
       "25%       -1336.000000\n",
       "50%        -897.250000\n",
       "75%        -420.000000\n",
       "max      365243.000000\n",
       "Name: Prev_DAYS_FIRST_DUE, dtype: float64"
      ]
     },
     "execution_count": 40,
     "metadata": {},
     "output_type": "execute_result"
    }
   ],
   "source": [
    "app_train['Prev_DAYS_FIRST_DUE'].describe()"
   ]
  },
  {
   "cell_type": "code",
   "execution_count": 41,
   "metadata": {},
   "outputs": [],
   "source": [
    "#Convert Days to positive numbers\n",
    "app_train['DAYS_BIRTH'] = round((app_train['DAYS_BIRTH'] * (-1))/365)\n",
    "\n",
    "app_train['DAYS_EMPLOYED'] = abs(app_train['DAYS_EMPLOYED'])\n",
    "\n",
    "app_train['DAYS_REGISTRATION'] = abs(app_train['DAYS_REGISTRATION'])\n",
    "\n",
    "app_train['DAYS_ID_PUBLISH'] = abs(app_train['DAYS_ID_PUBLISH'])\n",
    "\n",
    "app_train['DAYS_LAST_PHONE_CHANGE'] = abs(app_train['DAYS_LAST_PHONE_CHANGE'])\n",
    "\n",
    "app_train['Bureau_DAYS_CREDIT'] = abs(app_train['Bureau_DAYS_CREDIT'])\n",
    "\n",
    "app_train['Bureau_DAYS_ENDDATE_FACT'] = abs(app_train['Bureau_DAYS_ENDDATE_FACT'])\n",
    "\n",
    "app_train['Bureau_DAYS_CREDIT_UPDATE'] = abs(app_train['Bureau_DAYS_CREDIT_UPDATE'])\n",
    "\n",
    "app_train['Prev_DAYS_DECISION'] = abs(app_train['Prev_DAYS_DECISION'])"
   ]
  },
  {
   "cell_type": "code",
   "execution_count": 42,
   "metadata": {},
   "outputs": [
    {
     "data": {
      "image/png": "[encoded data removed]",
      "text/plain": [
       "<Figure size 432x288 with 1 Axes>"
      ]
     },
     "metadata": {
      "needs_background": "light"
     },
     "output_type": "display_data"
    }
   ],
   "source": [
    "app_train['DAYS_EMPLOYED'].describe()\n",
    "app_train['DAYS_EMPLOYED'].plot.hist(title = 'Days Employment Histogram');\n",
    "plt.xlabel('Days Employment');"
   ]
  },
  {
   "cell_type": "code",
   "execution_count": 43,
   "metadata": {},
   "outputs": [],
   "source": [
    "# Create an anomalous flag column\n",
    "app_train['DAYS_EMPLOYED_ANOM'] = app_train[\"DAYS_EMPLOYED\"] == 365243\n"
   ]
  },
  {
   "cell_type": "code",
   "execution_count": 44,
   "metadata": {},
   "outputs": [],
   "source": [
    "# Replace the anomalous values with nan\n",
    "app_train['DAYS_EMPLOYED'].replace({365243: np.nan}, inplace = True)\n"
   ]
  },
  {
   "cell_type": "code",
   "execution_count": 45,
   "metadata": {},
   "outputs": [
    {
     "data": {
      "image/png": "[encoded data removed]",
      "text/plain": [
       "<Figure size 432x288 with 1 Axes>"
      ]
     },
     "metadata": {
      "needs_background": "light"
     },
     "output_type": "display_data"
    }
   ],
   "source": [
    "app_train['DAYS_EMPLOYED'].plot.hist(title = 'Days Employment Histogram');\n",
    "plt.xlabel('Days Employment');"
   ]
  },
  {
   "cell_type": "markdown",
   "metadata": {},
   "source": [
    "<b> Handling Missing Values - Imputation</b>\n",
    "    <br>After removing columns missing 60%+ of values, replace missing values with Median "
   ]
  },
  {
   "cell_type": "code",
   "execution_count": 46,
   "metadata": {},
   "outputs": [],
   "source": [
    "from sklearn.preprocessing import MinMaxScaler, Imputer"
   ]
  },
  {
   "cell_type": "code",
   "execution_count": 47,
   "metadata": {},
   "outputs": [],
   "source": [
    "#isolate target from target data\n",
    "target_var = app_train['TARGET']\n",
    "# Drop the target from the training data and SK_ID_CURR\n",
    "if 'TARGET' in app_train:\n",
    "    train = app_train.drop(columns = ['TARGET','SK_ID_CURR'])\n",
    "else:\n",
    "    train = app_train.copy()"
   ]
  },
  {
   "cell_type": "code",
   "execution_count": 48,
   "metadata": {},
   "outputs": [],
   "source": [
    "#get list of col names\n",
    "features = list(train.columns)"
   ]
  },
  {
   "cell_type": "code",
   "execution_count": 50,
   "metadata": {},
   "outputs": [],
   "source": [
    "# Median imputation of missing values\n",
    "imputer = Imputer(strategy = 'median')"
   ]
  },
  {
   "cell_type": "code",
   "execution_count": 51,
   "metadata": {},
   "outputs": [],
   "source": [
    "# Fit on the training data\n",
    "imputer.fit(train)\n",
    "train = imputer.transform(train)"
   ]
  },
  {
   "cell_type": "markdown",
   "metadata": {},
   "source": [
    "<b>Normalize Data</b>\n",
    "<br> Scale data using 0-1 MinMax Scaler"
   ]
  },
  {
   "cell_type": "code",
   "execution_count": 52,
   "metadata": {},
   "outputs": [],
   "source": [
    "scaler = MinMaxScaler(feature_range = (0, 1))"
   ]
  },
  {
   "cell_type": "code",
   "execution_count": 53,
   "metadata": {},
   "outputs": [],
   "source": [
    "scaler.fit(train)\n",
    "train = scaler.transform(train)"
   ]
  },
  {
   "cell_type": "code",
   "execution_count": 54,
   "metadata": {},
   "outputs": [
    {
     "name": "stdout",
     "output_type": "stream",
     "text": [
      "Training data shape:  (307511, 439)\n"
     ]
    }
   ],
   "source": [
    "print('Training data shape: ', train.shape)"
   ]
  },
  {
   "cell_type": "markdown",
   "metadata": {},
   "source": [
    "### Feature Importance"
   ]
  },
  {
   "cell_type": "markdown",
   "metadata": {},
   "source": [
    "Use Random Forest Classifier to find feature importance and plot using plot_feature_importance function."
   ]
  },
  {
   "cell_type": "code",
   "execution_count": 56,
   "metadata": {},
   "outputs": [],
   "source": [
    "import matplotlib.pyplot as plt\n",
    "from sklearn.ensemble import RandomForestClassifier"
   ]
  },
  {
   "cell_type": "code",
   "execution_count": 57,
   "metadata": {},
   "outputs": [],
   "source": [
    "# Make the random forest classifier\n",
    "random_forest = RandomForestClassifier(n_estimators = 100, random_state = 50, verbose = 1, n_jobs = -1)"
   ]
  },
  {
   "cell_type": "code",
   "execution_count": 58,
   "metadata": {},
   "outputs": [
    {
     "name": "stderr",
     "output_type": "stream",
     "text": [
      "[Parallel(n_jobs=-1)]: Done  34 tasks      | elapsed:   46.0s\n",
      "[Parallel(n_jobs=-1)]: Done 100 out of 100 | elapsed:  1.9min finished\n"
     ]
    },
    {
     "data": {
      "text/plain": [
       "RandomForestClassifier(bootstrap=True, class_weight=None, criterion='gini',\n",
       "            max_depth=None, max_features='auto', max_leaf_nodes=None,\n",
       "            min_impurity_decrease=0.0, min_impurity_split=None,\n",
       "            min_samples_leaf=1, min_samples_split=2,\n",
       "            min_weight_fraction_leaf=0.0, n_estimators=100, n_jobs=-1,\n",
       "            oob_score=False, random_state=50, verbose=1, warm_start=False)"
      ]
     },
     "execution_count": 58,
     "metadata": {},
     "output_type": "execute_result"
    }
   ],
   "source": [
    "# Train on the training data\n",
    "random_forest.fit(train, target_var)"
   ]
  },
  {
   "cell_type": "code",
   "execution_count": 59,
   "metadata": {},
   "outputs": [],
   "source": [
    "# Extract feature importances\n",
    "feature_importance_values = random_forest.feature_importances_\n",
    "feature_importances = pd.DataFrame({'feature': features, 'importance': feature_importance_values})\n"
   ]
  },
  {
   "cell_type": "markdown",
   "metadata": {},
   "source": [
    "Use fucntion borrowed from Kaggle to view plotted feature importance.\n",
    "https://www.kaggle.com/willkoehrsen/start-here-a-gentle-introduction"
   ]
  },
  {
   "cell_type": "code",
   "execution_count": 60,
   "metadata": {},
   "outputs": [],
   "source": [
    "def plot_feature_importances(df):\n",
    "\n",
    "# Sort features according to importance\n",
    "    df = df.sort_values('importance', ascending = False).reset_index()\n",
    "    \n",
    "    # Normalize the feature importances to add up to one\n",
    "    df['importance_normalized'] = df['importance'] / df['importance'].sum()\n",
    "\n",
    "    # Make a horizontal bar chart of feature importances\n",
    "    plt.figure(figsize = (10, 6))\n",
    "    ax = plt.subplot()\n",
    "    \n",
    "    # Need to reverse the index to plot most important on top\n",
    "    ax.barh(list(reversed(list(df.index[:100]))), \n",
    "            df['importance_normalized'].head(100), \n",
    "            align = 'center', edgecolor = 'k')\n",
    "    \n",
    "    # Set the yticks and labels\n",
    "    ax.set_yticks(list(reversed(list(df.index[:100]))))\n",
    "    ax.set_yticklabels(df['feature'].head(100))\n",
    "    \n",
    "    # Plot labeling\n",
    "    plt.xlabel('Normalized Importance'); plt.title('Feature Importances')\n",
    "    plt.show()\n",
    "    \n",
    "    return df"
   ]
  },
  {
   "cell_type": "code",
   "execution_count": 61,
   "metadata": {},
   "outputs": [
    {
     "data": {
      "image/png": "[encoded data removed]",
      "text/plain": [
       "<Figure size 720x432 with 1 Axes>"
      ]
     },
     "metadata": {
      "needs_background": "light"
     },
     "output_type": "display_data"
    }
   ],
   "source": [
    "feature_importances_sorted = plot_feature_importances(feature_importances)"
   ]
  },
  {
   "cell_type": "markdown",
   "metadata": {},
   "source": [
    "### Feature Reduction"
   ]
  },
  {
   "cell_type": "code",
   "execution_count": 62,
   "metadata": {},
   "outputs": [],
   "source": [
    "train_reduced = pd.DataFrame(train)\n",
    "train_reduced.columns = features"
   ]
  },
  {
   "cell_type": "code",
   "execution_count": 63,
   "metadata": {},
   "outputs": [
    {
     "name": "stdout",
     "output_type": "stream",
     "text": [
      "Dropping feature:  Prev_POS_NAME_CONTRACT_STATUS_Signed\n",
      "Dropping feature:  LANDAREA_AVG\n",
      "Dropping feature:  Prev_PRODUCT_COMBINATION_Card Street\n",
      "Dropping feature:  Prev_NAME_PRODUCT_TYPE_walk-in\n",
      "Dropping feature:  Prev_PRODUCT_COMBINATION_Card X-Sell\n",
      "Dropping feature:  BASEMENTAREA_MEDI\n",
      "Dropping feature:  Prev_NAME_GOODS_CATEGORY_Audio/Video\n",
      "Dropping feature:  BASEMENTAREA_AVG\n",
      "Dropping feature:  Prev_DAYS_FIRST_DRAWING\n",
      "Dropping feature:  Bureau_Balance_STATUS_1\n",
      "Dropping feature:  Prev_CHANNEL_TYPE_Regional / Local\n",
      "Dropping feature:  BASEMENTAREA_MODE\n",
      "Dropping feature:  Prev_PRODUCT_COMBINATION_Cash X-Sell: high\n",
      "Dropping feature:  CNT_FAM_MEMBERS\n",
      "Dropping feature:  Prev_CHANNEL_TYPE_Contact center\n",
      "Dropping feature:  Prev_NAME_CLIENT_TYPE_Refreshed\n",
      "Dropping feature:  Prev_NAME_YIELD_GROUP_low_action\n",
      "Dropping feature:  Prev_POS_SK_DPD_DEF\n",
      "Dropping feature:  Prev_PRODUCT_COMBINATION_POS household without interest\n",
      "Dropping feature:  Prev_NAME_TYPE_SUITE_Spouse, partner\n",
      "Dropping feature:  NONLIVINGAREA_MEDI\n",
      "Dropping feature:  Prev_PRODUCT_COMBINATION_POS industry with interest\n",
      "Dropping feature:  NONLIVINGAREA_AVG\n",
      "Dropping feature:  NONLIVINGAREA_MODE\n",
      "Dropping feature:  Prev_CODE_REJECT_REASON_LIMIT\n",
      "Dropping feature:  Prev_PRODUCT_COMBINATION_Cash Street: high\n",
      "Dropping feature:  Prev_PRODUCT_COMBINATION_Cash Street: middle\n",
      "Dropping feature:  Prev_NAME_SELLER_INDUSTRY_Furniture\n",
      "Dropping feature:  Prev_NAME_GOODS_CATEGORY_Furniture\n",
      "Dropping feature:  ENTRANCES_MEDI\n",
      "Dropping feature:  ENTRANCES_AVG\n",
      "Dropping feature:  Prev_CODE_REJECT_REASON_SCO\n",
      "Dropping feature:  CNT_CHILDREN\n",
      "Dropping feature:  Prev_NAME_TYPE_SUITE_Children\n",
      "Dropping feature:  ENTRANCES_MODE\n",
      "Dropping feature:  Prev_NAME_GOODS_CATEGORY_Photo / Cinema Equipment\n",
      "Dropping feature:  Bureau_CREDIT_TYPE_Car loan\n",
      "Dropping feature:  Prev_CHANNEL_TYPE_AP+ (Cash loan)\n",
      "Dropping feature:  DEF_30_CNT_SOCIAL_CIRCLE\n",
      "Dropping feature:  Prev_PRODUCT_COMBINATION_Cash Street: low\n",
      "Dropping feature:  Prev_NAME_CASH_LOAN_PURPOSE_Repairs\n",
      "Dropping feature:  REGION_RATING_CLIENT_W_CITY\n",
      "Dropping feature:  FLOORSMAX_AVG\n",
      "Dropping feature:  REGION_RATING_CLIENT\n",
      "Dropping feature:  Prev_PRODUCT_COMBINATION_POS mobile without interest\n",
      "Dropping feature:  Prev_CODE_REJECT_REASON_CLIENT\n",
      "Dropping feature:  Prev_NAME_GOODS_CATEGORY_Construction Materials\n",
      "Dropping feature:  Prev_NAME_CONTRACT_STATUS_Unused offer\n",
      "Dropping feature:  FLOORSMAX_MEDI\n",
      "Dropping feature:  AMT_REQ_CREDIT_BUREAU_QRT\n",
      "Dropping feature:  Prev_NAME_SELLER_INDUSTRY_Construction\n",
      "Dropping feature:  Bureau_CREDIT_TYPE_Mortgage\n",
      "Dropping feature:  NAME_EDUCATION_TYPE_Higher education\n",
      "Dropping feature:  Prev_NAME_TYPE_SUITE_Other_B\n",
      "Dropping feature:  FLOORSMAX_MODE\n",
      "Dropping feature:  DEF_60_CNT_SOCIAL_CIRCLE\n",
      "Dropping feature:  Prev_NAME_SELLER_INDUSTRY_Clothing\n",
      "Dropping feature:  Prev_PRODUCT_COMBINATION_POS other with interest\n",
      "Dropping feature:  Prev_NAME_CASH_LOAN_PURPOSE_Other\n",
      "Dropping feature:  Prev_NAME_GOODS_CATEGORY_Clothing and Accessories\n",
      "Dropping feature:  AMT_REQ_CREDIT_BUREAU_MON\n",
      "Dropping feature:  CODE_GENDER_F\n",
      "Dropping feature:  CODE_GENDER_M\n",
      "Dropping feature:  Prev_NAME_SELLER_INDUSTRY_Industry\n",
      "Dropping feature:  Bureau_CNT_CREDIT_PROLONG\n",
      "Dropping feature:  FLAG_OWN_CAR\n",
      "Dropping feature:  Bureau_CREDIT_ACTIVE_Sold\n",
      "Dropping feature:  NAME_FAMILY_STATUS_Married\n",
      "Dropping feature:  NAME_EDUCATION_TYPE_Secondary / secondary special\n",
      "Dropping feature:  Prev_CODE_REJECT_REASON_SCOFR\n",
      "Dropping feature:  Bureau_Balance_STATUS_2\n",
      "Dropping feature:  NAME_INCOME_TYPE_Working\n",
      "Dropping feature:  Prev_PRODUCT_COMBINATION_POS industry without interest\n",
      "Dropping feature:  Prev_NAME_TYPE_SUITE_Other_A\n",
      "Dropping feature:  FLAG_DOCUMENT_3\n",
      "Dropping feature:  Prev_POS_NAME_CONTRACT_STATUS_Approved\n",
      "Dropping feature:  Bureau_CREDIT_TYPE_Microloan\n",
      "Dropping feature:  Prev_NAME_CASH_LOAN_PURPOSE_Urgent needs\n",
      "Dropping feature:  Prev_NAME_PAYMENT_TYPE_Non-cash from your account\n",
      "Dropping feature:  OCCUPATION_TYPE_Laborers\n",
      "Dropping feature:  REG_CITY_NOT_WORK_CITY\n",
      "Dropping feature:  REG_CITY_NOT_LIVE_CITY\n",
      "Dropping feature:  FLAG_OWN_REALTY\n",
      "Dropping feature:  Prev_CODE_REJECT_REASON_XNA\n",
      "Dropping feature:  Prev_NAME_GOODS_CATEGORY_Auto Accessories\n",
      "Dropping feature:  FLAG_WORK_PHONE\n",
      "Dropping feature:  ORGANIZATION_TYPE_Self-employed\n",
      "Dropping feature:  ORGANIZATION_TYPE_Business Entity Type 3\n",
      "Dropping feature:  Prev_NFLAG_LAST_APPL_IN_DAY\n",
      "Dropping feature:  FLAG_PHONE\n",
      "Dropping feature:  WEEKDAY_APPR_PROCESS_START_FRIDAY\n",
      "Dropping feature:  WEEKDAY_APPR_PROCESS_START_WEDNESDAY\n",
      "Dropping feature:  Prev_POS_NAME_CONTRACT_STATUS_Returned to the store\n",
      "Dropping feature:  WEEKDAY_APPR_PROCESS_START_THURSDAY\n",
      "Dropping feature:  ELEVATORS_AVG\n",
      "Dropping feature:  WEEKDAY_APPR_PROCESS_START_TUESDAY\n",
      "Dropping feature:  NAME_FAMILY_STATUS_Civil marriage\n",
      "Dropping feature:  LIVE_CITY_NOT_WORK_CITY\n",
      "Dropping feature:  NAME_FAMILY_STATUS_Single / not married\n",
      "Dropping feature:  NAME_HOUSING_TYPE_House / apartment\n",
      "Dropping feature:  NAME_TYPE_SUITE_Unaccompanied\n",
      "Dropping feature:  Prev_NAME_GOODS_CATEGORY_Jewelry\n",
      "Dropping feature:  WEEKDAY_APPR_PROCESS_START_MONDAY\n",
      "Dropping feature:  ELEVATORS_MEDI\n",
      "Dropping feature:  ELEVATORS_MODE\n",
      "Dropping feature:  Bureau_CREDIT_DAY_OVERDUE\n",
      "Dropping feature:  OCCUPATION_TYPE_Sales staff\n",
      "Dropping feature:  Prev_NAME_GOODS_CATEGORY_Homewares\n",
      "Dropping feature:  Prev_NAME_SELLER_INDUSTRY_Auto technology\n",
      "Dropping feature:  NAME_TYPE_SUITE_Family\n",
      "Dropping feature:  Bureau_AMT_CREDIT_SUM_OVERDUE\n",
      "Dropping feature:  Prev_NAME_GOODS_CATEGORY_Sport and Leisure\n",
      "Dropping feature:  WEEKDAY_APPR_PROCESS_START_SATURDAY\n",
      "Dropping feature:  Prev_NAME_CASH_LOAN_PURPOSE_Everyday expenses\n",
      "Dropping feature:  NAME_INCOME_TYPE_Commercial associate\n",
      "Dropping feature:  OCCUPATION_TYPE_Drivers\n",
      "Dropping feature:  Bureau_Balance_STATUS_3\n",
      "Dropping feature:  Prev_NAME_GOODS_CATEGORY_Vehicles\n",
      "Dropping feature:  Prev_NAME_CASH_LOAN_PURPOSE_Buying a used car\n",
      "Dropping feature:  NAME_FAMILY_STATUS_Separated\n",
      "Dropping feature:  NAME_HOUSING_TYPE_With parents\n",
      "Dropping feature:  Prev_NAME_CASH_LOAN_PURPOSE_Payments on other loans\n",
      "Dropping feature:  ORGANIZATION_TYPE_Construction\n",
      "Dropping feature:  EMERGENCYSTATE_MODE_No\n",
      "Dropping feature:  Prev_NAME_GOODS_CATEGORY_Office Appliances\n",
      "Dropping feature:  WALLSMATERIAL_MODE_Stone, brick\n",
      "Dropping feature:  WEEKDAY_APPR_PROCESS_START_SUNDAY\n",
      "Dropping feature:  HOUSETYPE_MODE_block of flats\n",
      "Dropping feature:  Prev_NAME_GOODS_CATEGORY_Other\n",
      "Dropping feature:  Prev_NAME_CASH_LOAN_PURPOSE_Building a house or an annex\n",
      "Dropping feature:  AMT_REQ_CREDIT_BUREAU_WEEK\n",
      "Dropping feature:  Bureau_Balance_STATUS_5\n",
      "Dropping feature:  NAME_CONTRACT_TYPE\n",
      "Dropping feature:  FLAG_EMAIL\n",
      "Dropping feature:  Prev_NAME_GOODS_CATEGORY_Medical Supplies\n",
      "Dropping feature:  Prev_NAME_TYPE_SUITE_Group of people\n",
      "Dropping feature:  Prev_NAME_CASH_LOAN_PURPOSE_Medicine\n",
      "Dropping feature:  Prev_CODE_REJECT_REASON_VERIF\n",
      "Dropping feature:  Bureau_Balance_STATUS_4\n",
      "Dropping feature:  Prev_NAME_GOODS_CATEGORY_Gardening\n",
      "Dropping feature:  Prev_NAME_CASH_LOAN_PURPOSE_Education\n",
      "Dropping feature:  ORGANIZATION_TYPE_Other\n",
      "Dropping feature:  Prev_CHANNEL_TYPE_Channel of corporate sales\n",
      "Dropping feature:  WALLSMATERIAL_MODE_Panel\n",
      "Dropping feature:  Bureau_CREDIT_TYPE_Loan for business development\n",
      "Dropping feature:  NAME_HOUSING_TYPE_Rented apartment\n",
      "Dropping feature:  ORGANIZATION_TYPE_Business Entity Type 2\n",
      "Dropping feature:  NAME_HOUSING_TYPE_Municipal apartment\n",
      "Dropping feature:  OCCUPATION_TYPE_Low-skill Laborers\n",
      "Dropping feature:  Prev_NAME_CASH_LOAN_PURPOSE_Wedding / gift / holiday\n",
      "Dropping feature:  Prev_NAME_SELLER_INDUSTRY_Jewelry\n",
      "Dropping feature:  OCCUPATION_TYPE_Security staff\n",
      "Dropping feature:  OCCUPATION_TYPE_Core staff\n",
      "Dropping feature:  Prev_NAME_PAYMENT_TYPE_Cashless from the account of the employer\n",
      "Dropping feature:  ORGANIZATION_TYPE_Trade: type 7\n",
      "Dropping feature:  NAME_TYPE_SUITE_Spouse, partner\n",
      "Dropping feature:  FLAG_DOCUMENT_8\n",
      "Dropping feature:  REG_REGION_NOT_WORK_REGION\n",
      "Dropping feature:  NAME_INCOME_TYPE_Pensioner\n",
      "Dropping feature:  OCCUPATION_TYPE_Managers\n",
      "Dropping feature:  Prev_NAME_GOODS_CATEGORY_Tourism\n",
      "Dropping feature:  NAME_EDUCATION_TYPE_Lower secondary\n",
      "Dropping feature:  OCCUPATION_TYPE_Cooking staff\n",
      "Dropping feature:  LIVE_REGION_NOT_WORK_REGION\n",
      "Dropping feature:  Prev_NAME_CLIENT_TYPE_XNA\n",
      "Dropping feature:  NAME_FAMILY_STATUS_Widow\n",
      "Dropping feature:  Bureau_CREDIT_TYPE_Another type of loan\n",
      "Dropping feature:  ORGANIZATION_TYPE_Transport: type 3\n",
      "Dropping feature:  ORGANIZATION_TYPE_Government\n",
      "Dropping feature:  Prev_PRODUCT_COMBINATION_POS others without interest\n",
      "Dropping feature:  ORGANIZATION_TYPE_Industry: type 3\n",
      "Dropping feature:  OCCUPATION_TYPE_Cleaning staff\n"
     ]
    },
    {
     "name": "stdout",
     "output_type": "stream",
     "text": [
      "Dropping feature:  ORGANIZATION_TYPE_Transport: type 4\n",
      "Dropping feature:  NAME_INCOME_TYPE_State servant\n",
      "Dropping feature:  ORGANIZATION_TYPE_Trade: type 3\n",
      "Dropping feature:  FLAG_EMP_PHONE\n",
      "Dropping feature:  NAME_EDUCATION_TYPE_Incomplete higher\n",
      "Dropping feature:  ORGANIZATION_TYPE_Business Entity Type 1\n",
      "Dropping feature:  FLAG_DOCUMENT_6\n",
      "Dropping feature:  DAYS_EMPLOYED_ANOM\n",
      "Dropping feature:  FLAG_DOCUMENT_5\n",
      "Dropping feature:  ORGANIZATION_TYPE_Agriculture\n",
      "Dropping feature:  Prev_NAME_CASH_LOAN_PURPOSE_Buying a home\n",
      "Dropping feature:  ORGANIZATION_TYPE_XNA\n",
      "Dropping feature:  OCCUPATION_TYPE_High skill tech staff\n",
      "Dropping feature:  ORGANIZATION_TYPE_Security\n",
      "Dropping feature:  Prev_NAME_CASH_LOAN_PURPOSE_Buying a new car\n",
      "Dropping feature:  AMT_REQ_CREDIT_BUREAU_DAY\n",
      "Dropping feature:  Bureau_CREDIT_CURRENCY_currency 1\n",
      "Dropping feature:  ORGANIZATION_TYPE_Medicine\n",
      "Dropping feature:  ORGANIZATION_TYPE_School\n",
      "Dropping feature:  NAME_TYPE_SUITE_Children\n",
      "Dropping feature:  Bureau_CREDIT_CURRENCY_currency 2\n",
      "Dropping feature:  Prev_NAME_CASH_LOAN_PURPOSE_Purchase of electronic equipment\n",
      "Dropping feature:  WALLSMATERIAL_MODE_Block\n",
      "Dropping feature:  ORGANIZATION_TYPE_Kindergarten\n",
      "Dropping feature:  Prev_NAME_GOODS_CATEGORY_Medicine\n",
      "Dropping feature:  ORGANIZATION_TYPE_Restaurant\n",
      "Dropping feature:  Prev_NAME_CASH_LOAN_PURPOSE_Car repairs\n",
      "Dropping feature:  Prev_NAME_CASH_LOAN_PURPOSE_Journey\n",
      "Dropping feature:  NAME_TYPE_SUITE_Other_B\n",
      "Dropping feature:  REG_REGION_NOT_LIVE_REGION\n",
      "Dropping feature:  Bureau_CREDIT_TYPE_Unknown type of loan\n",
      "Dropping feature:  OCCUPATION_TYPE_Medicine staff\n",
      "Dropping feature:  ORGANIZATION_TYPE_Housing\n",
      "Dropping feature:  ORGANIZATION_TYPE_Industry: type 11\n",
      "Dropping feature:  ORGANIZATION_TYPE_Postal\n",
      "Dropping feature:  Prev_NAME_CASH_LOAN_PURPOSE_Furniture\n",
      "Dropping feature:  Prev_NAME_SELLER_INDUSTRY_Tourism\n",
      "Dropping feature:  OCCUPATION_TYPE_Accountants\n",
      "Dropping feature:  ORGANIZATION_TYPE_Transport: type 2\n",
      "Dropping feature:  Bureau_CREDIT_TYPE_Loan for working capital replenishment\n",
      "Dropping feature:  AMT_REQ_CREDIT_BUREAU_HOUR\n",
      "Dropping feature:  OCCUPATION_TYPE_Waiters/barmen staff\n",
      "Dropping feature:  OCCUPATION_TYPE_Private service staff\n",
      "Dropping feature:  NAME_HOUSING_TYPE_Office apartment\n",
      "Dropping feature:  ORGANIZATION_TYPE_Industry: type 4\n",
      "Dropping feature:  WALLSMATERIAL_MODE_Mixed\n",
      "Dropping feature:  Prev_CODE_REJECT_REASON_SYSTEM\n",
      "Dropping feature:  ORGANIZATION_TYPE_Industry: type 9\n",
      "Dropping feature:  HOUSETYPE_MODE_specific housing\n",
      "Dropping feature:  ORGANIZATION_TYPE_Industry: type 1\n",
      "Dropping feature:  Prev_NAME_SELLER_INDUSTRY_MLM partners\n",
      "Dropping feature:  WALLSMATERIAL_MODE_Others\n",
      "Dropping feature:  WALLSMATERIAL_MODE_Wooden\n",
      "Dropping feature:  NAME_TYPE_SUITE_Other_A\n",
      "Dropping feature:  Prev_NAME_CASH_LOAN_PURPOSE_Buying a holiday home / land\n",
      "Dropping feature:  ORGANIZATION_TYPE_Industry: type 7\n",
      "Dropping feature:  EMERGENCYSTATE_MODE_Yes\n",
      "Dropping feature:  Prev_NAME_CONTRACT_TYPE_XNA\n",
      "Dropping feature:  OCCUPATION_TYPE_Secretaries\n",
      "Dropping feature:  ORGANIZATION_TYPE_Services\n",
      "Dropping feature:  ORGANIZATION_TYPE_Police\n",
      "Dropping feature:  FLAG_DOCUMENT_9\n",
      "Dropping feature:  Prev_NAME_CASH_LOAN_PURPOSE_Business development\n",
      "Dropping feature:  ORGANIZATION_TYPE_Trade: type 2\n",
      "Dropping feature:  NAME_HOUSING_TYPE_Co-op apartment\n",
      "Dropping feature:  Prev_NAME_CASH_LOAN_PURPOSE_Gasification / water supply\n",
      "Dropping feature:  ORGANIZATION_TYPE_Military\n",
      "Dropping feature:  FLAG_DOCUMENT_16\n",
      "Dropping feature:  FLAG_DOCUMENT_18\n",
      "Dropping feature:  OCCUPATION_TYPE_Realty agents\n",
      "Dropping feature:  ORGANIZATION_TYPE_Realtor\n",
      "Dropping feature:  ORGANIZATION_TYPE_Bank\n",
      "Dropping feature:  Prev_NAME_PORTFOLIO_Cars\n",
      "Dropping feature:  ORGANIZATION_TYPE_Telecom\n",
      "Dropping feature:  ORGANIZATION_TYPE_Security Ministries\n",
      "Dropping feature:  Bureau_CREDIT_CURRENCY_currency 3\n",
      "Dropping feature:  ORGANIZATION_TYPE_Electricity\n",
      "Dropping feature:  Prev_CHANNEL_TYPE_Car dealer\n",
      "Dropping feature:  ORGANIZATION_TYPE_Hotel\n",
      "Dropping feature:  ORGANIZATION_TYPE_University\n",
      "Dropping feature:  HOUSETYPE_MODE_terraced house\n",
      "Dropping feature:  Prev_NAME_GOODS_CATEGORY_Direct Sales\n",
      "Dropping feature:  ORGANIZATION_TYPE_Mobile\n",
      "Dropping feature:  ORGANIZATION_TYPE_Industry: type 5\n",
      "Dropping feature:  ORGANIZATION_TYPE_Advertising\n",
      "Dropping feature:  ORGANIZATION_TYPE_Cleaning\n",
      "Dropping feature:  ORGANIZATION_TYPE_Industry: type 2\n",
      "Dropping feature:  FLAG_CONT_MOBILE\n",
      "Dropping feature:  ORGANIZATION_TYPE_Insurance\n",
      "Dropping feature:  ORGANIZATION_TYPE_Emergency\n",
      "Dropping feature:  ORGANIZATION_TYPE_Culture\n",
      "Dropping feature:  ORGANIZATION_TYPE_Trade: type 1\n",
      "Dropping feature:  FLAG_DOCUMENT_11\n",
      "Dropping feature:  Prev_NAME_CASH_LOAN_PURPOSE_Hobby\n",
      "Dropping feature:  Prev_POS_NAME_CONTRACT_STATUS_Demand\n",
      "Dropping feature:  NAME_TYPE_SUITE_Group of people\n",
      "Dropping feature:  OCCUPATION_TYPE_IT staff\n",
      "Dropping feature:  Bureau_CREDIT_TYPE_Cash loan (non-earmarked)\n",
      "Dropping feature:  OCCUPATION_TYPE_HR staff\n",
      "Dropping feature:  WALLSMATERIAL_MODE_Monolithic\n",
      "Dropping feature:  ORGANIZATION_TYPE_Trade: type 6\n",
      "Dropping feature:  ORGANIZATION_TYPE_Legal Services\n",
      "Dropping feature:  NAME_INCOME_TYPE_Unemployed\n",
      "Dropping feature:  FLAG_DOCUMENT_20\n",
      "Dropping feature:  Prev_NAME_GOODS_CATEGORY_Fitness\n",
      "Dropping feature:  Prev_NAME_CASH_LOAN_PURPOSE_Buying a garage\n",
      "Dropping feature:  Prev_NAME_GOODS_CATEGORY_Weapon\n",
      "Dropping feature:  ORGANIZATION_TYPE_Industry: type 12\n",
      "Dropping feature:  FLAG_DOCUMENT_13\n",
      "Dropping feature:  FLAG_DOCUMENT_19\n",
      "Dropping feature:  FLAG_DOCUMENT_14\n",
      "Dropping feature:  Prev_NAME_CASH_LOAN_PURPOSE_Money for a third person\n",
      "Dropping feature:  Prev_NAME_GOODS_CATEGORY_Additional Service\n",
      "Dropping feature:  Prev_NAME_GOODS_CATEGORY_Insurance\n",
      "Dropping feature:  FLAG_DOCUMENT_21\n",
      "Dropping feature:  FLAG_DOCUMENT_2\n",
      "Dropping feature:  ORGANIZATION_TYPE_Industry: type 13\n",
      "Dropping feature:  ORGANIZATION_TYPE_Industry: type 6\n",
      "Dropping feature:  ORGANIZATION_TYPE_Transport: type 1\n",
      "Dropping feature:  ORGANIZATION_TYPE_Industry: type 10\n",
      "Dropping feature:  FLAG_DOCUMENT_15\n",
      "Dropping feature:  Prev_NAME_GOODS_CATEGORY_Education\n",
      "Dropping feature:  Bureau_CREDIT_TYPE_Real estate loan\n",
      "Dropping feature:  ORGANIZATION_TYPE_Religion\n",
      "Dropping feature:  ORGANIZATION_TYPE_Trade: type 5\n",
      "Dropping feature:  Prev_POS_NAME_CONTRACT_STATUS_Canceled\n",
      "Dropping feature:  Prev_NAME_CASH_LOAN_PURPOSE_Refusal to name the goal\n",
      "Dropping feature:  NAME_EDUCATION_TYPE_Academic degree\n",
      "Dropping feature:  Prev_POS_NAME_CONTRACT_STATUS_XNA\n",
      "Dropping feature:  ORGANIZATION_TYPE_Industry: type 8\n",
      "Dropping feature:  FLAG_DOCUMENT_7\n",
      "Dropping feature:  FLAG_DOCUMENT_17\n",
      "Dropping feature:  ORGANIZATION_TYPE_Trade: type 4\n",
      "Dropping feature:  Bureau_CREDIT_CURRENCY_currency 4\n",
      "Dropping feature:  Bureau_CREDIT_TYPE_Loan for the purchase of equipment\n",
      "Dropping feature:  Bureau_CREDIT_ACTIVE_Bad debt\n",
      "Dropping feature:  FLAG_DOCUMENT_10\n",
      "Dropping feature:  NAME_INCOME_TYPE_Student\n",
      "Dropping feature:  Bureau_CREDIT_TYPE_Mobile operator loan\n",
      "Dropping feature:  NAME_INCOME_TYPE_Businessman\n",
      "Dropping feature:  Prev_NAME_GOODS_CATEGORY_Animals\n",
      "Dropping feature:  FLAG_DOCUMENT_4\n",
      "Dropping feature:  Prev_POS_NAME_CONTRACT_STATUS_Amortized debt\n",
      "Dropping feature:  FLAG_MOBIL\n",
      "Dropping feature:  Prev_NAME_GOODS_CATEGORY_House Construction\n",
      "Dropping feature:  FLAG_DOCUMENT_12\n"
     ]
    }
   ],
   "source": [
    "for feature in feature_importances_sorted['feature'][121:]:\n",
    "    print (\"Dropping feature: \",feature)\n",
    "    train_reduced = train_reduced.drop(columns = [feature])"
   ]
  },
  {
   "cell_type": "markdown",
   "metadata": {},
   "source": [
    "### Split Train and Test Sets"
   ]
  },
  {
   "cell_type": "markdown",
   "metadata": {},
   "source": [
    "Use 80/20 split for Training and Test sets."
   ]
  },
  {
   "cell_type": "code",
   "execution_count": 65,
   "metadata": {},
   "outputs": [],
   "source": [
    "from sklearn.model_selection import train_test_split"
   ]
  },
  {
   "cell_type": "code",
   "execution_count": 66,
   "metadata": {},
   "outputs": [],
   "source": [
    "data_train, data_test, target_train, target_test = train_test_split (train_reduced, target_var, test_size =0.2, random_state = 29)"
   ]
  },
  {
   "cell_type": "code",
   "execution_count": 69,
   "metadata": {},
   "outputs": [
    {
     "name": "stdout",
     "output_type": "stream",
     "text": [
      "Training set shape:        (246008, 121)\n",
      "Test set shape:            (61503, 121)\n",
      "Training Target set shape: (246008,)\n",
      "Test Target shape:         (61503,)\n"
     ]
    }
   ],
   "source": [
    "print('Training set shape:       ', data_train.shape)\n",
    "print('Test set shape:           ', data_test.shape)\n",
    "print('Training Target set shape:', target_train.shape)\n",
    "print('Test Target shape:        ', target_test.shape)"
   ]
  },
  {
   "cell_type": "markdown",
   "metadata": {},
   "source": [
    "# Model Building  "
   ]
  },
  {
   "attachments": {
    "image.png": {
     "image/png": "[encoded data removed]"
    }
   },
   "cell_type": "markdown",
   "metadata": {},
   "source": [
    "![image.png](attachment:image.png)"
   ]
  },
  {
   "cell_type": "markdown",
   "metadata": {},
   "source": [
    "#### KNN"
   ]
  },
  {
   "cell_type": "code",
   "execution_count": 70,
   "metadata": {},
   "outputs": [],
   "source": [
    "from sklearn import neighbors"
   ]
  },
  {
   "cell_type": "code",
   "execution_count": 71,
   "metadata": {},
   "outputs": [
    {
     "data": {
      "text/plain": [
       "KNeighborsClassifier(algorithm='auto', leaf_size=30, metric='minkowski',\n",
       "           metric_params=None, n_jobs=-1, n_neighbors=5, p=2,\n",
       "           weights='distance')"
      ]
     },
     "execution_count": 71,
     "metadata": {},
     "output_type": "execute_result"
    }
   ],
   "source": [
    "n_neighbors = 5\n",
    "\n",
    "knnclf = neighbors.KNeighborsClassifier(n_neighbors, weights='distance', n_jobs = -1)\n",
    "knnclf.fit(data_train, target_train)"
   ]
  },
  {
   "cell_type": "code",
   "execution_count": null,
   "metadata": {},
   "outputs": [],
   "source": [
    "knnpred_test = knnclf.predict(data_test)"
   ]
  },
  {
   "cell_type": "code",
   "execution_count": null,
   "metadata": {},
   "outputs": [],
   "source": [
    "#Check Accuracy\n",
    "from sklearn.metrics import classification_report\n",
    "print(classification_report(target_test, knnpred_test))"
   ]
  },
  {
   "cell_type": "code",
   "execution_count": null,
   "metadata": {},
   "outputs": [],
   "source": [
    "#ROC_AUC\n",
    "from sklearn.metrics import roc_auc_score\n",
    "roc_auc_score(target_test, knnpred_test)"
   ]
  },
  {
   "cell_type": "code",
   "execution_count": null,
   "metadata": {},
   "outputs": [],
   "source": [
    "#Confusion matrix\n",
    "from sklearn.metrics import confusion_matrix\n",
    "knncm = confusion_matrix(target_test, knnpred_test)\n",
    "print (knncm)"
   ]
  },
  {
   "cell_type": "code",
   "execution_count": null,
   "metadata": {},
   "outputs": [],
   "source": [
    "import pylab as plt\n",
    "%matplotlib inline\n",
    "plt.matshow(knncm)\n",
    "plt.colorbar()\n",
    "plt.ylabel('Actual')\n",
    "plt.xlabel('Predicted')\n",
    "plt.show()"
   ]
  },
  {
   "cell_type": "code",
   "execution_count": null,
   "metadata": {},
   "outputs": [],
   "source": [
    "#Accuracy of test data\n",
    "print (knnclf.score(data_test, target_test))\n",
    "\n",
    "#Accuracy of train data\n",
    "print (knnclf.score(data_train, target_train))"
   ]
  },
  {
   "cell_type": "markdown",
   "metadata": {},
   "source": [
    "#### Naive Bayes"
   ]
  },
  {
   "cell_type": "code",
   "execution_count": null,
   "metadata": {},
   "outputs": [],
   "source": [
    "from sklearn import tree, naive_bayes\n",
    "nbclf = naive_bayes.GaussianNB()\n",
    "nbclf = nbclf.fit(data_train, target_train)"
   ]
  },
  {
   "cell_type": "code",
   "execution_count": null,
   "metadata": {},
   "outputs": [],
   "source": [
    "from sklearn.model_selection import cross_validate\n",
    "cv_scores_nb = cross_validate(nbclf, data_train, target_train, cv=10, return_train_score=True)\n",
    "cv_scores_nb\n",
    "print(\"Accuracy Using Cross Validation: %0.2f (+/- %0.2f)\" % (cv_scores_nb['test_score'].mean(), cv_scores_nb['test_score'].std() * 2))\n"
   ]
  },
  {
   "cell_type": "code",
   "execution_count": null,
   "metadata": {},
   "outputs": [],
   "source": [
    "nbpred_test = nbclf.predict(data_test)"
   ]
  },
  {
   "cell_type": "code",
   "execution_count": null,
   "metadata": {},
   "outputs": [],
   "source": [
    "#Check Accuracy\n",
    "from sklearn.metrics import classification_report\n",
    "print(classification_report(target_test, nbpred_test))"
   ]
  },
  {
   "cell_type": "code",
   "execution_count": null,
   "metadata": {},
   "outputs": [],
   "source": [
    "#ROC_AUC\n",
    "from sklearn.metrics import roc_auc_score\n",
    "roc_auc_score(target_test, nbpred_test)"
   ]
  },
  {
   "cell_type": "code",
   "execution_count": null,
   "metadata": {},
   "outputs": [],
   "source": [
    "#Confusion matrix\n",
    "from sklearn.metrics import confusion_matrix\n",
    "nbcm = confusion_matrix(target_test, nbpred_test)\n",
    "print (nbcm)"
   ]
  },
  {
   "cell_type": "code",
   "execution_count": null,
   "metadata": {},
   "outputs": [],
   "source": [
    "import pylab as plt\n",
    "%matplotlib inline\n",
    "plt.matshow(nbcm)\n",
    "plt.colorbar()\n",
    "plt.ylabel('Actual')\n",
    "plt.xlabel('Predicted')\n",
    "plt.show()"
   ]
  },
  {
   "cell_type": "code",
   "execution_count": null,
   "metadata": {},
   "outputs": [],
   "source": [
    "#Accuracy of test data\n",
    "print (nbclf.score(data_test, target_test))"
   ]
  },
  {
   "cell_type": "markdown",
   "metadata": {},
   "source": [
    "#### Decision Tree"
   ]
  },
  {
   "cell_type": "code",
   "execution_count": null,
   "metadata": {},
   "outputs": [],
   "source": [
    "from sklearn import tree, naive_bayes\n",
    "treeclf =  tree.DecisionTreeClassifier(criterion='entropy',random_state=10)\n",
    "treeclf = treeclf.fit(data_train, target_train)\n"
   ]
  },
  {
   "cell_type": "code",
   "execution_count": null,
   "metadata": {},
   "outputs": [],
   "source": [
    "cv_scores_tree = cross_validate(treeclf, data_train, target_train, cv=10, return_train_score=True)\n",
    "cv_scores_tree\n",
    "print(\"Accuracy Using Cross Validation: %0.2f (+/- %0.2f)\" % (cv_scores_tree['test_score'].mean(), cv_scores_tree['test_score'].std() * 2))\n"
   ]
  },
  {
   "cell_type": "code",
   "execution_count": null,
   "metadata": {},
   "outputs": [],
   "source": [
    "treepred_test = treeclf.predict(data_test)"
   ]
  },
  {
   "cell_type": "code",
   "execution_count": null,
   "metadata": {},
   "outputs": [],
   "source": [
    "\n",
    "#Check Accuracy\n",
    "from sklearn.metrics import classification_report\n",
    "print(classification_report(target_test, treepred_test))"
   ]
  },
  {
   "cell_type": "code",
   "execution_count": null,
   "metadata": {},
   "outputs": [],
   "source": [
    "#ROC_AUC\n",
    "from sklearn.metrics import roc_auc_score\n",
    "roc_auc_score(target_test, treepred_test)"
   ]
  },
  {
   "cell_type": "code",
   "execution_count": null,
   "metadata": {},
   "outputs": [],
   "source": [
    "#Confusion matrix\n",
    "from sklearn.metrics import confusion_matrix\n",
    "treecm = confusion_matrix(target_test, treepred_test)\n",
    "print (treecm)"
   ]
  },
  {
   "cell_type": "code",
   "execution_count": null,
   "metadata": {},
   "outputs": [],
   "source": [
    "import pylab as plt\n",
    "%matplotlib inline\n",
    "plt.matshow(treecm)\n",
    "plt.colorbar()\n",
    "plt.ylabel('Actual')\n",
    "plt.xlabel('Predicted')\n",
    "plt.show()"
   ]
  },
  {
   "cell_type": "code",
   "execution_count": null,
   "metadata": {},
   "outputs": [],
   "source": [
    "#Accuracy of test data\n",
    "print (treeclf.score(data_test, target_test))"
   ]
  },
  {
   "cell_type": "code",
   "execution_count": null,
   "metadata": {},
   "outputs": [],
   "source": [
    "#Visualization of Tree\n",
    "import graphviz\n",
    "from sklearn.tree import export_graphviz"
   ]
  },
  {
   "cell_type": "code",
   "execution_count": null,
   "metadata": {},
   "outputs": [],
   "source": [
    "treeclf = tree.DecisionTreeClassifier(criterion='entropy',max_depth = 4)"
   ]
  },
  {
   "cell_type": "code",
   "execution_count": null,
   "metadata": {},
   "outputs": [],
   "source": [
    "cv_scores_tree = cross_validate(treeclf,  data_train, target_train, cv=10, return_train_score=True)\n",
    "cv_scores_tree\n",
    "print(\"Accuracy Using Cross Validation: %0.2f (+/- %0.2f)\" % (cv_scores_tree['test_score'].mean(), cv_scores_tree['test_score'].std() * 2))\n"
   ]
  },
  {
   "cell_type": "code",
   "execution_count": null,
   "metadata": {},
   "outputs": [],
   "source": [
    "treeclf = treeclf.fit(data_train, target_train)\n",
    "export_graphviz(treeclf, out_file=\"tree.dot\", feature_names = data_train.columns, class_names=[\"0\", \"1\"])\n",
    "with open(\"tree.dot\") as f:\n",
    "        dot_graph = f.read()\n",
    "graphviz.Source(dot_graph)"
   ]
  },
  {
   "cell_type": "markdown",
   "metadata": {},
   "source": [
    "#### LDA"
   ]
  },
  {
   "cell_type": "code",
   "execution_count": null,
   "metadata": {},
   "outputs": [],
   "source": [
    "from sklearn.discriminant_analysis import LinearDiscriminantAnalysis\n",
    "ldclf = LinearDiscriminantAnalysis()\n",
    "ldclf = ldclf.fit(data_train, target_train)"
   ]
  },
  {
   "cell_type": "code",
   "execution_count": null,
   "metadata": {},
   "outputs": [],
   "source": [
    "cv_scores_ld = cross_validate(ldclf, data_train, target_train, cv=10, return_train_score=True)\n",
    "cv_scores_ld\n",
    "print(\"Accuracy Using Cross Validation: %0.2f (+/- %0.2f)\" % (cv_scores_ld['test_score'].mean(), cv_scores_ld['test_score'].std() * 2))\n"
   ]
  },
  {
   "cell_type": "code",
   "execution_count": null,
   "metadata": {},
   "outputs": [],
   "source": [
    "ldpred_test = ldclf.predict(data_test)"
   ]
  },
  {
   "cell_type": "code",
   "execution_count": null,
   "metadata": {},
   "outputs": [],
   "source": [
    "#Check Accuracy\n",
    "from sklearn.metrics import classification_report\n",
    "print(classification_report(target_test, ldpred_test))"
   ]
  },
  {
   "cell_type": "code",
   "execution_count": null,
   "metadata": {},
   "outputs": [],
   "source": [
    "#ROC_AUC\n",
    "from sklearn.metrics import roc_auc_score\n",
    "roc_auc_score(target_test, ldpred_test)\n"
   ]
  },
  {
   "cell_type": "code",
   "execution_count": null,
   "metadata": {},
   "outputs": [],
   "source": [
    "#Confusion matrix\n",
    "from sklearn.metrics import confusion_matrix\n",
    "ldcm = confusion_matrix(target_test, ldpred_test)\n",
    "print (ldcm)"
   ]
  },
  {
   "cell_type": "code",
   "execution_count": null,
   "metadata": {},
   "outputs": [],
   "source": [
    "import pylab as plt\n",
    "%matplotlib inline\n",
    "plt.matshow(ldcm)\n",
    "plt.colorbar()\n",
    "plt.ylabel('Actual')\n",
    "plt.xlabel('Predicted')\n",
    "plt.show("
   ]
  },
  {
   "cell_type": "code",
   "execution_count": null,
   "metadata": {},
   "outputs": [],
   "source": [
    "#Accuracy of test data\n",
    "print (ldclf.score(data_test, target_test))"
   ]
  },
  {
   "cell_type": "markdown",
   "metadata": {},
   "source": [
    "#### Logistic Regression"
   ]
  },
  {
   "cell_type": "code",
   "execution_count": null,
   "metadata": {},
   "outputs": [],
   "source": [
    "import sklearn.decomposition as skdc\n",
    "import sklearn.linear_model as sklm"
   ]
  },
  {
   "cell_type": "code",
   "execution_count": null,
   "metadata": {},
   "outputs": [],
   "source": [
    "pca = skdc.PCA() #empty model space\n",
    "pcafit = pca.fit_transform(data_train,target_train) ##apply dimensionality reduction to X\n",
    "var_explained = pca.explained_variance_ratio_ #ratio of variance each PC explains"
   ]
  },
  {
   "cell_type": "code",
   "execution_count": null,
   "metadata": {},
   "outputs": [],
   "source": [
    "print(pd.Series(var_explained))\n",
    "###All components are not necessary\n",
    "###since they explain less than.01 of the variance\n",
    "print(sum(var_explained[0:46]))\n",
    "##indeed,the first 46 PCs explain 95% of the variance\n",
    "import sklearn.pipeline as skpl\n",
    "pca = skdc.PCA(n_components = 46) #only include first 10 components"
   ]
  },
  {
   "cell_type": "code",
   "execution_count": null,
   "metadata": {},
   "outputs": [],
   "source": [
    "logreg = sklm.LogisticRegression(class_weight='balance')#empty model space\n",
    "pipeline = skpl.Pipeline([('pca', pca), ('logistic', logreg)]) #create pipeline from pca to logregression space\n",
    "fit = pipeline.fit(data_train, target_train) #fit model\n",
    "prediction = pipeline.predict(data_test)"
   ]
  },
  {
   "cell_type": "code",
   "execution_count": null,
   "metadata": {},
   "outputs": [],
   "source": [
    "print(prediction)\n",
    "print(classification_report(target_test, prediction))\n",
    "print(accuracy_score(target_test, prediction))\n"
   ]
  },
  {
   "cell_type": "code",
   "execution_count": null,
   "metadata": {},
   "outputs": [],
   "source": [
    "from sklearn.metrics import confusion_matrix\n",
    "import seaborn as sns\n",
    "mat = confusion_matrix(target_test, prediction)\n",
    "sns.heatmap(mat.T, square=True, annot=True, fmt='d', cbar=False)\n",
    "plt.xlabel('true label')\n",
    "plt.ylabel('predicted label');"
   ]
  },
  {
   "cell_type": "code",
   "execution_count": null,
   "metadata": {},
   "outputs": [],
   "source": [
    "#ROC_AUC\n",
    "from sklearn.metrics import roc_auc_score\n",
    "roc_auc_score(target_test, prediction)"
   ]
  },
  {
   "cell_type": "code",
   "execution_count": null,
   "metadata": {},
   "outputs": [],
   "source": [
    "print(\"Accuracy:\",metrics.accuracy_score(target_test, prediction))\n",
    "print(\"Precision:\",metrics.precision_score(target_test, prediction))\n",
    "print(\"Recall:\",metrics.recall_score(target_test, prediction))"
   ]
  },
  {
   "cell_type": "code",
   "execution_count": null,
   "metadata": {},
   "outputs": [],
   "source": [
    "y_pred_proba = pipeline.predict_proba(data_test)[::,1]\n",
    "fpr, tpr, _ = metrics.roc_curve(target_test,  y_pred_proba)\n",
    "auc = metrics.roc_auc_score(target_test, y_pred_proba)\n",
    "plt.plot(fpr,tpr,label=\"data 1, auc=\"+str(auc))\n",
    "plt.plot([0, 1], [0, 1], linestyle='--')\n",
    "plt.legend(loc=4)\n",
    "plt.show()"
   ]
  },
  {
   "cell_type": "markdown",
   "metadata": {},
   "source": [
    "#### Logistic Regression w/ PCA"
   ]
  },
  {
   "cell_type": "code",
   "execution_count": null,
   "metadata": {},
   "outputs": [],
   "source": [
    "import sklearn.decomposition as skdc\n",
    "import sklearn.linear_model as sklm\n"
   ]
  },
  {
   "cell_type": "code",
   "execution_count": null,
   "metadata": {},
   "outputs": [],
   "source": [
    "pca = skdc.PCA() #empty model space\n",
    "pcafit = pca.fit_transform(data_train,target_train) ##apply dimensionality reduction to X\n",
    "var_explained = pca.explained_variance_ratio_ #ratio of variance each PC explains\n"
   ]
  },
  {
   "cell_type": "code",
   "execution_count": null,
   "metadata": {},
   "outputs": [],
   "source": [
    "print(pd.Series(var_explained))\n",
    "###All components are not necessary\n",
    "###since they explain less than.01 of the variance\n",
    "print(sum(var_explained[0:46]))\n",
    "##indeed,the first 46 PCs explain 95% of the variance\n",
    "import sklearn.pipeline as skpl\n",
    "pca = skdc.PCA(n_components = 46) #only include first 10 components\n"
   ]
  },
  {
   "cell_type": "code",
   "execution_count": null,
   "metadata": {},
   "outputs": [],
   "source": [
    "logreg = sklm.LogisticRegression(class_weight='balance')#empty model space\n",
    "pipeline = skpl.Pipeline([('pca', pca), ('logistic', logreg)]) #create pipeline from pca to logregression space\n",
    "fit = pipeline.fit(data_train, target_train) #fit model\n",
    "prediction = pipeline.predict(data_test)\n"
   ]
  },
  {
   "cell_type": "code",
   "execution_count": null,
   "metadata": {},
   "outputs": [],
   "source": [
    "print(prediction)\n",
    "print(classification_report(target_test, prediction))\n",
    "print(accuracy_score(target_test, prediction))\n"
   ]
  },
  {
   "cell_type": "code",
   "execution_count": null,
   "metadata": {},
   "outputs": [],
   "source": [
    "from sklearn.metrics import confusion_matrix\n",
    "import seaborn as sns\n",
    "mat = confusion_matrix(target_test, prediction)\n",
    "sns.heatmap(mat.T, square=True, annot=True, fmt='d', cbar=False)\n",
    "plt.xlabel('true label')\n",
    "plt.ylabel('predicted label');"
   ]
  },
  {
   "cell_type": "code",
   "execution_count": null,
   "metadata": {},
   "outputs": [],
   "source": [
    "#ROC_AUC\n",
    "from sklearn.metrics import roc_auc_score\n",
    "roc_auc_score(target_test, prediction)"
   ]
  },
  {
   "cell_type": "code",
   "execution_count": null,
   "metadata": {},
   "outputs": [],
   "source": [
    "print(\"Accuracy:\",metrics.accuracy_score(target_test, prediction))\n",
    "print(\"Precision:\",metrics.precision_score(target_test, prediction))\n",
    "print(\"Recall:\",metrics.recall_score(target_test, prediction))\n"
   ]
  },
  {
   "cell_type": "code",
   "execution_count": null,
   "metadata": {},
   "outputs": [],
   "source": [
    "y_pred_proba = pipeline.predict_proba(data_test)[::,1]\n",
    "fpr, tpr, _ = metrics.roc_curve(target_test,  y_pred_proba)\n",
    "auc = metrics.roc_auc_score(target_test, y_pred_proba)\n",
    "plt.plot(fpr,tpr,label=\"data 1, auc=\"+str(auc))\n",
    "plt.plot([0, 1], [0, 1], linestyle='--')\n",
    "plt.legend(loc=4)\n",
    "plt.show()"
   ]
  }
 ],
 "metadata": {
  "kernelspec": {
   "display_name": "Python 3",
   "language": "python",
   "name": "python3"
  },
  "language_info": {
   "codemirror_mode": {
    "name": "ipython",
    "version": 3
   },
   "file_extension": ".py",
   "mimetype": "text/x-python",
   "name": "python",
   "nbconvert_exporter": "python",
   "pygments_lexer": "ipython3",
   "version": "3.7.1"
  }
 },
 "nbformat": 4,
 "nbformat_minor": 2
}
